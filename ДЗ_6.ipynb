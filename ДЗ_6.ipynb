{
  "nbformat": 4,
  "nbformat_minor": 0,
  "metadata": {
    "colab": {
      "provenance": [],
      "authorship_tag": "ABX9TyPc7COGx3PVGErB4EsnUf1a",
      "include_colab_link": true
    },
    "kernelspec": {
      "name": "python3",
      "display_name": "Python 3"
    },
    "language_info": {
      "name": "python"
    }
  },
  "cells": [
    {
      "cell_type": "markdown",
      "metadata": {
        "id": "view-in-github",
        "colab_type": "text"
      },
      "source": [
        "<a href=\"https://colab.research.google.com/github/ZozolNat/A-B-testirovanie/blob/main/%D0%94%D0%97_6.ipynb\" target=\"_parent\"><img src=\"https://colab.research.google.com/assets/colab-badge.svg\" alt=\"Open In Colab\"/></a>"
      ]
    },
    {
      "cell_type": "markdown",
      "source": [
        "###Урок 6. Расчёт длительности А/B теста + продвинутые топики\n",
        "Продакт на главной mail.ru решил протестировать в рекомендательной ленте контента вместо карточек со статьями видеоплеер с короткими видео. Нынешний таймспент на юзера в день в среднем равен 25 минут, а стандартная ошибка (SD) равна 156. Мы предполагаем, что в новой версии таймспент на юзера в день изменится на 10%. Средний трафик 20000 человек в день. Посчитайте сколько дней необходимо держать эксперимент при alpha = 5% и beta = 20% .\n",
        "\n"
      ],
      "metadata": {
        "id": "ZbWXgkRXHQ_S"
      }
    },
    {
      "cell_type": "markdown",
      "source": [
        "Решение"
      ],
      "metadata": {
        "id": "-FItyRwMHVaq"
      }
    },
    {
      "cell_type": "code",
      "source": [
        "import statsmodels.stats.power as smp"
      ],
      "metadata": {
        "id": "l--3JSegHZmR"
      },
      "execution_count": 7,
      "outputs": []
    },
    {
      "cell_type": "code",
      "source": [
        "# Вычисляем разницу между средними значениями\n",
        "d = new_mean - 25"
      ],
      "metadata": {
        "id": "trJvtBlvHrW_"
      },
      "execution_count": 4,
      "outputs": []
    },
    {
      "cell_type": "code",
      "source": [
        "# Уровень значимости alpha = 0.05, мощность 1-beta = 0.8 (т.е. beta = 0.2).\n",
        "alpha = 0.05\n",
        "beta = 0.2"
      ],
      "metadata": {
        "id": "FtoKVkwHHiYo"
      },
      "execution_count": 5,
      "outputs": []
    },
    {
      "cell_type": "code",
      "source": [
        "# Вычисляем новый средний таймспент\n",
        "new_mean = 1.1 * 25"
      ],
      "metadata": {
        "id": "0yyjrS8lHl7F"
      },
      "execution_count": 2,
      "outputs": []
    },
    {
      "cell_type": "code",
      "source": [
        "# Рассчитываем минимальный размер выборки для каждой группы\n",
        "sd = 156  # стандартная ошибка\n",
        "n = smp.tt_ind_solve_power(effect_size=d / sd, nobs1=None, alpha=alpha, power=1-beta, ratio=1, alternative='two-sided')\n",
        "n_group = round(n / 2)\n"
      ],
      "metadata": {
        "colab": {
          "base_uri": "https://localhost:8080/"
        },
        "id": "zMwXBUh8HxM2",
        "outputId": "ce1f2c45-ad85-4742-a5e2-fd532d200567"
      },
      "execution_count": 8,
      "outputs": [
        {
          "output_type": "stream",
          "name": "stderr",
          "text": [
            "/usr/local/lib/python3.10/dist-packages/scipy/stats/_continuous_distns.py:6832: RuntimeWarning: invalid value encountered in _nct_sf\n",
            "  return np.clip(_boost._nct_sf(x, df, nc), 0, 1)\n",
            "/usr/local/lib/python3.10/dist-packages/scipy/stats/_continuous_distns.py:6826: RuntimeWarning: invalid value encountered in _nct_cdf\n",
            "  return np.clip(_boost._nct_cdf(x, df, nc), 0, 1)\n"
          ]
        }
      ]
    },
    {
      "cell_type": "code",
      "source": [
        "# Количество пользователей, которые посетят сайт за период эксперимента\n",
        "traffic = 20000\n"
      ],
      "metadata": {
        "id": "hEcKL-L7H4rA"
      },
      "execution_count": 9,
      "outputs": []
    },
    {
      "cell_type": "code",
      "source": [
        "# Длительность эксперимента в днях\n",
        "duration = n_group / traffic\n",
        "print('Минимальное количество юзеров в каждой группе:', n_group)\n",
        "print('Продолжительность эксперимента в днях:', duration)"
      ],
      "metadata": {
        "colab": {
          "base_uri": "https://localhost:8080/"
        },
        "id": "o6XWVg3YH7IZ",
        "outputId": "fe53fc85-53f7-46d1-d20f-c3e45734584c"
      },
      "execution_count": 10,
      "outputs": [
        {
          "output_type": "stream",
          "name": "stdout",
          "text": [
            "Минимальное количество юзеров в каждой группе: 30562\n",
            "Продолжительность эксперимента в днях: 1.5281\n"
          ]
        }
      ]
    },
    {
      "cell_type": "markdown",
      "source": [
        "Т.о., чтобы достичь заданных уровней значимости и мощности эксперимента, необходимо провести эксперимент в течение около 1.5 дня"
      ],
      "metadata": {
        "id": "1LJJ3MIeJCrU"
      }
    },
    {
      "cell_type": "markdown",
      "source": [
        "Наша продуктовая команда в ecommerce магазине планирует запустить тест, направленный на ускорение загрузки сайта. Одна из основных метрик bounce rate в GA = 40%. Мы предполагаем, что при оптимизации сайта она изменится минимум на 20%.Средний трафик 4000 человек в день. Посчитайте сколько нам нужно дней держать эксперимент при alpha = 5% и beta = 20%"
      ],
      "metadata": {
        "id": "n1oWbUMuIx91"
      }
    },
    {
      "cell_type": "markdown",
      "source": [
        "Решение"
      ],
      "metadata": {
        "id": "yGHCb9RtI8kT"
      }
    },
    {
      "cell_type": "code",
      "source": [
        "import statsmodels.stats.api as sms\n"
      ],
      "metadata": {
        "id": "5-9TCOXDJNEJ"
      },
      "execution_count": 11,
      "outputs": []
    },
    {
      "cell_type": "code",
      "source": [
        "# Уровень значимости alpha = 0.05, мощность 1-beta = 0.8 (то есть beta = 0.2).\n",
        "alpha = 0.05\n",
        "beta = 0.2"
      ],
      "metadata": {
        "id": "PNwTCgG7JSz3"
      },
      "execution_count": 12,
      "outputs": []
    },
    {
      "cell_type": "code",
      "source": [
        "# Вычисляем текущее значение bounce rate и новое значение при изменении метрики на 20%\n",
        "current_bounce_rate = 0.4\n",
        "new_bounce_rate = 0.4 * 1.2\n"
      ],
      "metadata": {
        "id": "nhYa_YVSJUE2"
      },
      "execution_count": 13,
      "outputs": []
    },
    {
      "cell_type": "code",
      "source": [
        "# Вычисляем разницу между средними значениями\n",
        "d = current_bounce_rate - new_bounce_rate\n"
      ],
      "metadata": {
        "id": "hdu1zX9CJY7n"
      },
      "execution_count": 14,
      "outputs": []
    },
    {
      "cell_type": "code",
      "source": [
        "# Рассчитываем минимальный размер выборки для каждой группы\n",
        "n = sms.NormalIndPower().solve_power(effect_size=d, alpha=alpha, power=1-beta, ratio=1)\n"
      ],
      "metadata": {
        "id": "kAVobjYPJa1K"
      },
      "execution_count": 15,
      "outputs": []
    },
    {
      "cell_type": "code",
      "source": [
        "# Количество пользователей, которые посетят сайт за период эксперимента\n",
        "traffic = 4000\n"
      ],
      "metadata": {
        "id": "dRp8ySANJdmU"
      },
      "execution_count": 16,
      "outputs": []
    },
    {
      "cell_type": "code",
      "source": [
        "# Длительность эксперимента в днях\n",
        "duration = n / traffic"
      ],
      "metadata": {
        "id": "O3mAI37gJfQJ"
      },
      "execution_count": 18,
      "outputs": []
    },
    {
      "cell_type": "code",
      "source": [
        "print('Минимальное количество юзеров в каждой группе:', round(n))\n",
        "print('Продолжительность эксперимента в днях:', round(duration))"
      ],
      "metadata": {
        "colab": {
          "base_uri": "https://localhost:8080/"
        },
        "id": "reXRmlCkJkLt",
        "outputId": "60fc1e2e-1a28-48e4-cb63-7f84f4a96522"
      },
      "execution_count": 19,
      "outputs": [
        {
          "output_type": "stream",
          "name": "stdout",
          "text": [
            "Минимальное количество юзеров в каждой группе: 2453\n",
            "Продолжительность эксперимента в днях: 1\n"
          ]
        }
      ]
    },
    {
      "cell_type": "markdown",
      "source": [
        "Т.о., чтобы достичь заданных уровней значимости и мощности эксперимента, необходимо провести эксперимент в течение 1 дня."
      ],
      "metadata": {
        "id": "MswmknY9Jo9q"
      }
    }
  ]
}